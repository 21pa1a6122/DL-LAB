{
  "nbformat": 4,
  "nbformat_minor": 0,
  "metadata": {
    "colab": {
      "provenance": [],
      "authorship_tag": "ABX9TyMU4gQ2MM2BbDfJJhNDeK2k",
      "include_colab_link": true
    },
    "kernelspec": {
      "name": "python3",
      "display_name": "Python 3"
    },
    "language_info": {
      "name": "python"
    }
  },
  "cells": [
    {
      "cell_type": "markdown",
      "metadata": {
        "id": "view-in-github",
        "colab_type": "text"
      },
      "source": [
        "<a href=\"https://colab.research.google.com/github/21pa1a6122/DL-LAB/blob/main/single_perceptron.ipynb\" target=\"_parent\"><img src=\"https://colab.research.google.com/assets/colab-badge.svg\" alt=\"Open In Colab\"/></a>"
      ]
    },
    {
      "cell_type": "code",
      "execution_count": 1,
      "metadata": {
        "colab": {
          "base_uri": "https://localhost:8080/"
        },
        "id": "eSJhmMGVJdw7",
        "outputId": "e8bb6f44-0cfd-43e4-87ae-f7095c293894"
      },
      "outputs": [
        {
          "output_type": "stream",
          "name": "stdout",
          "text": [
            "0\n"
          ]
        }
      ],
      "source": [
        "import numpy as np\n",
        "import pandas as pd\n",
        "import math\n",
        "X=np.array([0.2,0.5,0.3])\n",
        "W=np.array([0.5,0.3,0.4])\n",
        "b=-6.0\n",
        "\n",
        "def stepFunction(t):\n",
        "  if t>=0:\n",
        "    return 1\n",
        "  return 0\n",
        "def prediction(X,W,b):\n",
        "  return stepFunction((np.matmul(X,W)+b))\n",
        "print(prediction(X,W,b))"
      ]
    }
  ]
}